{
 "cells": [
  {
   "cell_type": "code",
   "execution_count": 1,
   "metadata": {},
   "outputs": [
    {
     "name": "stderr",
     "output_type": "stream",
     "text": [
      "[nltk_data] Downloading package punkt to\n",
      "[nltk_data]     C:\\Users\\spong\\AppData\\Roaming\\nltk_data...\n",
      "[nltk_data]   Package punkt is already up-to-date!\n",
      "[nltk_data] Downloading package wordnet to\n",
      "[nltk_data]     C:\\Users\\spong\\AppData\\Roaming\\nltk_data...\n",
      "[nltk_data]   Package wordnet is already up-to-date!\n",
      "[nltk_data] Downloading package stopwords to\n",
      "[nltk_data]     C:\\Users\\spong\\AppData\\Roaming\\nltk_data...\n",
      "[nltk_data]   Package stopwords is already up-to-date!\n"
     ]
    }
   ],
   "source": [
    "import pandas as pd\n",
    "import numpy as np\n",
    "import matplotlib.pyplot as plt\n",
    "import seaborn as sns\n",
    "import re\n",
    "\n",
    "import nltk\n",
    "from nltk.tokenize import word_tokenize\n",
    "from nltk.stem import WordNetLemmatizer\n",
    "from nltk.corpus import stopwords\n",
    "from itertools import chain\n",
    "nltk.download('punkt')\n",
    "nltk.download('wordnet')\n",
    "nltk.download('stopwords')\n",
    "\n",
    "import matplotlib"
   ]
  },
  {
   "cell_type": "markdown",
   "metadata": {},
   "source": [
    "# Summary as of 11/21\n",
    "\n",
    "#### My second hypothesis: wine from different area (in this dataset, I mean province) have different falvors\n",
    "1. I did lift analysis like what we did in text analysis to match flavors and area (province). \n",
    "2. Wine from California taste dry, more like pineapple, smoky, blackberry\n",
    "3. Wine from Washington taste like coffee and herb \n",
    "4. Wine from Bordeaux taste like wood (the lift is 5.7, crazy!!!)\n",
    "5. Wine from Tuscany taste like berry and raspberry and goes well with tobacco and meat\n",
    "6. Application is that next time when you are talking about wine with your friends, you can claim these are all backed by data analysis\n"
   ]
  },
  {
   "cell_type": "code",
   "execution_count": 2,
   "metadata": {},
   "outputs": [],
   "source": [
    "df = pd.read_csv('winemag-data_first150k.csv')"
   ]
  },
  {
   "cell_type": "markdown",
   "metadata": {},
   "source": [
    "## Preprocess"
   ]
  },
  {
   "cell_type": "markdown",
   "metadata": {},
   "source": [
    "#### Change df['description'] to whatever you are using"
   ]
  },
  {
   "cell_type": "code",
   "execution_count": 3,
   "metadata": {},
   "outputs": [
    {
     "name": "stdout",
     "output_type": "stream",
     "text": [
      "Wall time: 1min 16s\n"
     ]
    }
   ],
   "source": [
    "%%time\n",
    "# tokenization\n",
    "df['tokens'] = df['description'].map(nltk.word_tokenize)\n",
    "df['bigrams'] = df['tokens'].map(lambda x: list(nltk.bigrams(x)))\n",
    "df['trigrams'] = df['tokens'].map(lambda x: list(nltk.trigrams(x)))\n",
    "df['tokens'] = df['tokens'].map(lambda x: set(x))\n",
    "\n",
    "# lemmatization\n",
    "lemmatizer = WordNetLemmatizer()\n",
    "df['lemmatized'] = df ['tokens'].map(lambda x: [lemmatizer.lemmatize(word) for word in x])\n",
    "df['lemmatized'] = df['lemmatized'].map(lambda x: set(x))\n",
    "\n",
    "# remove stop words\n",
    "stop_words = set(stopwords.words('english'))\n",
    "df['processed'] = df['lemmatized'].map(lambda x: [word for word in x if word.lower() not in stop_words])\n",
    "\n",
    "# remove punctuations\n",
    "punc = \"!\\\"#$%&'()*+,-./:;<=>?@[\\]^_`{|}~...\"\n",
    "df['processed'] = df['processed'].map(lambda x: [word for word in x if word.lower() not in punc])\n",
    "\n",
    "# remove some other stuff and return lower case\n",
    "others = [\"''\", \"``\", \"n't\", \"l\", \"oh\", \"lol\", \"'m\", \"'s\"]\n",
    "df['processed'] = df['processed'].map(lambda x: [word.lower() for word in x if word.lower() not in others])"
   ]
  },
  {
   "cell_type": "code",
   "execution_count": 4,
   "metadata": {},
   "outputs": [],
   "source": [
    "all_words = pd.Series(chain(*list(df['processed'])))\n",
    "word_frequency = all_words.value_counts()"
   ]
  },
  {
   "cell_type": "markdown",
   "metadata": {},
   "source": [
    "## Choose some flavors"
   ]
  },
  {
   "cell_type": "code",
   "execution_count": 5,
   "metadata": {},
   "outputs": [
    {
     "data": {
      "text/plain": [
       "['fruit',\n",
       " 'cherry',\n",
       " 'acidity',\n",
       " 'spice',\n",
       " 'dry',\n",
       " 'rich',\n",
       " 'sweet',\n",
       " 'berry',\n",
       " 'blackberry',\n",
       " 'oak',\n",
       " 'vanilla',\n",
       " 'apple',\n",
       " 'raspberry',\n",
       " 'chocolate',\n",
       " 'citrus',\n",
       " 'peach',\n",
       " 'herb',\n",
       " 'spicy',\n",
       " 'pear',\n",
       " 'pineapple',\n",
       " 'creamy',\n",
       " 'lemon',\n",
       " 'wood',\n",
       " 'smoky',\n",
       " 'tobacco',\n",
       " 'coffee',\n",
       " 'orange',\n",
       " 'melon',\n",
       " 'strawberry',\n",
       " 'grapefruit',\n",
       " 'floral',\n",
       " 'meat',\n",
       " 'cinnamon']"
      ]
     },
     "execution_count": 5,
     "metadata": {},
     "output_type": "execute_result"
    }
   ],
   "source": [
    "flavors = 'fruit cherry acidity spice dry rich sweet berry blackberry oak vanilla apple raspberry chocolate citrus peach herb spicy pear pineapple creamy lemon wood smoky tobacco coffee orange melon strawberry grapefruit floral meat cinnamon'.split()\n",
    "flavors"
   ]
  },
  {
   "cell_type": "code",
   "execution_count": 6,
   "metadata": {},
   "outputs": [
    {
     "name": "stdout",
     "output_type": "stream",
     "text": [
      "10330\n",
      "60584\n",
      "44508\n"
     ]
    }
   ],
   "source": [
    "## for sanity check\n",
    "\n",
    "a = 'fruit'\n",
    "b = 'California'\n",
    "print(np.sum((df['processed'].map(lambda x: a in x)) & (df['province'] == b)))\n",
    "print(sum(df['processed'].map(lambda x: a in x)))\n",
    "print(sum(df['province'] == b))\n",
    "# df['processed'].map(lambda x: a in x)\n"
   ]
  },
  {
   "cell_type": "code",
   "execution_count": 7,
   "metadata": {},
   "outputs": [],
   "source": [
    "def lift(a, b):\n",
    "    N = df['processed'].shape[0]\n",
    "    N_ab = sum((df['processed'].map(lambda x: a in x)) & (df['province'] == b))\n",
    "    N_a = sum(df['processed'].map(lambda x: a in x))\n",
    "    N_b = sum(df['province'] == b)\n",
    "#     print('N', 'N_ab', 'N_a', 'N_b')\n",
    "#     print(N, N_ab, N_a, N_b)\n",
    "    if N_a*N_b == 0:\n",
    "        return(None)\n",
    "    else:\n",
    "        return(N*N_ab/(N_a*N_b))"
   ]
  },
  {
   "cell_type": "markdown",
   "metadata": {},
   "source": [
    "Then I choose 5 province I want to look at"
   ]
  },
  {
   "cell_type": "markdown",
   "metadata": {},
   "source": [
    "#### If you want to look at more area, you can change number_of_province variable. It allows you to access the analysis for top areas (the areas with the most data)."
   ]
  },
  {
   "cell_type": "code",
   "execution_count": 11,
   "metadata": {},
   "outputs": [],
   "source": [
    "number_of_province = 5\n",
    "\n",
    "provinces = df['province'].value_counts().iloc[:number_of_province].index.values\n",
    "provinces\n",
    "\n",
    "provinces = pd.DataFrame(provinces, columns=['province'])\n",
    "for flavor in flavors:\n",
    "#     print(flavor)\n",
    "    provinces[flavor] = provinces['province'].map(lambda x: lift(flavor, x))\n",
    "provinces = provinces.set_index('province')\n",
    "# provinces.T"
   ]
  },
  {
   "cell_type": "markdown",
   "metadata": {},
   "source": [
    "## Print out top 5 regions and their top flavors"
   ]
  },
  {
   "cell_type": "code",
   "execution_count": 9,
   "metadata": {},
   "outputs": [
    {
     "name": "stdout",
     "output_type": "stream",
     "text": [
      "Wine from California taste like: ==============\n",
      "dry           2.094528\n",
      "pineapple     1.965826\n",
      "smoky         1.935283\n",
      "blackberry    1.914715\n",
      "oak           1.848095\n",
      "Name: California, dtype: float64\n",
      "Wine from Washington taste like: ==============\n",
      "coffee        2.650685\n",
      "herb          2.409139\n",
      "strawberry    1.873638\n",
      "fruit         1.612798\n",
      "spicy         1.558598\n",
      "Name: Washington, dtype: float64\n",
      "Wine from Tuscany taste like: ==============\n",
      "tobacco    3.788644\n",
      "meat       2.617308\n",
      "spice      2.262905\n",
      "cherry     2.057002\n",
      "coffee     1.914722\n",
      "Name: Tuscany, dtype: float64\n",
      "Wine from Bordeaux taste like: ==============\n",
      "wood       5.693182\n",
      "acidity    1.680284\n",
      "fruit      1.659204\n",
      "rich       1.573435\n",
      "smoky      1.261768\n",
      "Name: Bordeaux, dtype: float64\n",
      "Wine from Northern Spain taste like: ==============\n",
      "berry        2.444871\n",
      "raspberry    2.004492\n",
      "tobacco      1.827583\n",
      "coffee       1.660355\n",
      "vanilla      1.597128\n",
      "Name: Northern Spain, dtype: float64\n"
     ]
    }
   ],
   "source": [
    "for province in provinces.index:\n",
    "    print(\"Wine from {} taste like:\".format(province), \"==============\")\n",
    "    print(provinces.T[province].sort_values(ascending=False)[:5])"
   ]
  },
  {
   "cell_type": "markdown",
   "metadata": {},
   "source": [
    "#### Look at only texas'wine\n",
    "#### If you want to look at wine from specific areas, you can add area in the list below."
   ]
  },
  {
   "cell_type": "code",
   "execution_count": 10,
   "metadata": {},
   "outputs": [
    {
     "name": "stdout",
     "output_type": "stream",
     "text": [
      "Wine from Texas taste like: ==============\n",
      "spicy      4.779676\n",
      "floral     3.795072\n",
      "smoky      3.639967\n",
      "vanilla    3.408011\n",
      "pear       2.327234\n",
      "Name: Texas, dtype: float64\n"
     ]
    }
   ],
   "source": [
    "provinces = ['Texas']\n",
    "\n",
    "provinces = pd.DataFrame(provinces, columns=['province'])\n",
    "for flavor in flavors:\n",
    "#     print(flavor)\n",
    "    provinces[flavor] = provinces['province'].map(lambda x: lift(flavor, x))\n",
    "provinces = provinces.set_index('province')\n",
    "provinces.T\n",
    "\n",
    "for province in provinces.index:\n",
    "    print(\"Wine from {} taste like:\".format(province), \"==============\")\n",
    "    print(provinces.T[province].sort_values(ascending=False)[:5])"
   ]
  }
 ],
 "metadata": {
  "kernelspec": {
   "display_name": "Python 3",
   "language": "python",
   "name": "python3"
  },
  "language_info": {
   "codemirror_mode": {
    "name": "ipython",
    "version": 3
   },
   "file_extension": ".py",
   "mimetype": "text/x-python",
   "name": "python",
   "nbconvert_exporter": "python",
   "pygments_lexer": "ipython3",
   "version": "3.6.8"
  }
 },
 "nbformat": 4,
 "nbformat_minor": 2
}
